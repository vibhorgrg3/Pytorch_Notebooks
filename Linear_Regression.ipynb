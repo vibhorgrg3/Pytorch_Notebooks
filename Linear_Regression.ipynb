{
  "cells": [
    {
      "cell_type": "code",
      "execution_count": 1,
      "metadata": {
        "id": "WSMxXRbFqBX3"
      },
      "outputs": [],
      "source": [
        "import torch\n",
        "import torch.nn as nn\n",
        "import numpy as np\n",
        "import matplotlib.pyplot as plt"
      ]
    },
    {
      "cell_type": "code",
      "execution_count": 26,
      "metadata": {
        "id": "rB9gXV6m3OIm"
      },
      "outputs": [],
      "source": [
        "N=20\n",
        "X=np.random.random(N)*10 - 5\n",
        "Y=0.5*X -1 + np.random.random(N)"
      ]
    },
    {
      "cell_type": "code",
      "execution_count": 27,
      "metadata": {
        "colab": {
          "base_uri": "https://localhost:8080/",
          "height": 284
        },
        "id": "qb18r3uM3nb0",
        "outputId": "016e15a1-8dc1-4265-e83e-e9b32678435d"
      },
      "outputs": [
        {
          "data": {
            "text/plain": [
              "<matplotlib.collections.PathCollection at 0x7fe91f29ff90>"
            ]
          },
          "execution_count": 27,
          "metadata": {},
          "output_type": "execute_result"
        },
        {
          "data": {
            "image/png": "[encoded data removed]",
            "text/plain": [
              "<Figure size 432x288 with 1 Axes>"
            ]
          },
          "metadata": {
            "needs_background": "light"
          },
          "output_type": "display_data"
        }
      ],
      "source": [
        "plt.scatter(X,Y)"
      ]
    },
    {
      "cell_type": "code",
      "execution_count": 30,
      "metadata": {
        "id": "VNCdzmwU3uBc"
      },
      "outputs": [],
      "source": [
        "# Building the model\n",
        "# We define a model : Linear here\n",
        "\n",
        "model=nn.Linear(1,1) # 1 input and 1 output\n",
        "\n",
        "# Loss function and Optimizer \n",
        "\n",
        "criterion=nn.MSELoss() # an torch object implementing Mean Sq Error\n",
        "\n",
        "\n",
        "# Stochastic Gradient Descent with loss rate = 0.1\n",
        "optimizer= torch.optim.SGD(model.parameters(), lr=0.01)  \n",
        "\n",
        "# Now the torch lib works with torch tensors and not np arrays\n",
        "# Thus we convert our vectors to tensors and then to pytorch tensors\n",
        "# Also pytorch does not allow to mix data types so it will do calcs\n",
        "# on float32-float32 or float64-float64 and not on float32-float64\n",
        "\n",
        "X=X.reshape(N,1)\n",
        "Y=Y.reshape(N,1)\n",
        "\n",
        "inputs=torch.from_numpy(X.astype(np.float32))\n",
        "targets=torch.from_numpy(Y.astype(np.float32))\n"
      ]
    },
    {
      "cell_type": "code",
      "execution_count": 31,
      "metadata": {
        "colab": {
          "base_uri": "https://localhost:8080/"
        },
        "id": "U6b1wHfS4kJY",
        "outputId": "5bdfd434-ae0e-4cc9-fa36-9692c8ceae1c"
      },
      "outputs": [
        {
          "data": {
            "text/plain": [
              "(20, 1)"
            ]
          },
          "execution_count": 31,
          "metadata": {},
          "output_type": "execute_result"
        }
      ],
      "source": [
        "np.shape(X)"
      ]
    },
    {
      "cell_type": "code",
      "execution_count": 32,
      "metadata": {
        "colab": {
          "base_uri": "https://localhost:8080/"
        },
        "id": "axkbbaZ24jUb",
        "outputId": "1102890f-a3ac-46ae-eac0-4074b664a45f"
      },
      "outputs": [
        {
          "name": "stdout",
          "output_type": "stream",
          "text": [
            "Epoch: 1/30, Loss:  1.1356\n",
            "Epoch: 2/30, Loss:  0.7290\n",
            "Epoch: 3/30, Loss:  0.4749\n",
            "Epoch: 4/30, Loss:  0.3162\n",
            "Epoch: 5/30, Loss:  0.2169\n",
            "Epoch: 6/30, Loss:  0.1549\n",
            "Epoch: 7/30, Loss:  0.1161\n",
            "Epoch: 8/30, Loss:  0.0919\n",
            "Epoch: 9/30, Loss:  0.0768\n",
            "Epoch: 10/30, Loss:  0.0673\n",
            "Epoch: 11/30, Loss:  0.0614\n",
            "Epoch: 12/30, Loss:  0.0577\n",
            "Epoch: 13/30, Loss:  0.0554\n",
            "Epoch: 14/30, Loss:  0.0539\n",
            "Epoch: 15/30, Loss:  0.0530\n",
            "Epoch: 16/30, Loss:  0.0525\n",
            "Epoch: 17/30, Loss:  0.0521\n",
            "Epoch: 18/30, Loss:  0.0519\n",
            "Epoch: 19/30, Loss:  0.0518\n",
            "Epoch: 20/30, Loss:  0.0517\n",
            "Epoch: 21/30, Loss:  0.0516\n",
            "Epoch: 22/30, Loss:  0.0516\n",
            "Epoch: 23/30, Loss:  0.0516\n",
            "Epoch: 24/30, Loss:  0.0516\n",
            "Epoch: 25/30, Loss:  0.0515\n",
            "Epoch: 26/30, Loss:  0.0515\n",
            "Epoch: 27/30, Loss:  0.0515\n",
            "Epoch: 28/30, Loss:  0.0515\n",
            "Epoch: 29/30, Loss:  0.0515\n",
            "Epoch: 30/30, Loss:  0.0515\n"
          ]
        }
      ],
      "source": [
        "# Training the model\n",
        "\n",
        "epochs=30\n",
        "# we will store the losses to check is the coverge and plot them\n",
        "losses=[]\n",
        "\n",
        "for _ in range(epochs):\n",
        "  # Zero the parameter gradients (Just do this as 1st step)\n",
        "  optimizer.zero_grad()\n",
        "\n",
        "  # Forward Pass: get the outputs and calculate loss\n",
        "  outputs=model(inputs)\n",
        "  loss=criterion(outputs,targets) #you can build this yourself (Just MSE)\n",
        "\n",
        "  # Append los: use torch's item() to convert from torch to np\n",
        "  losses.append(loss.item())\n",
        "\n",
        "  # Backward and optimize\n",
        "  loss.backward()\n",
        "  optimizer.step() # geometrically moving our values to gradient descent\n",
        "\n",
        "  print(f'Epoch: {_+1}/{epochs}, Loss: {loss.item(): .4f}')\n"
      ]
    },
    {
      "cell_type": "code",
      "execution_count": 33,
      "metadata": {
        "colab": {
          "base_uri": "https://localhost:8080/",
          "height": 284
        },
        "id": "0GfIyw_k-a_p",
        "outputId": "799a5396-9017-4fdf-d88c-4c22162aeb51"
      },
      "outputs": [
        {
          "data": {
            "text/plain": [
              "[<matplotlib.lines.Line2D at 0x7fe91f23f150>]"
            ]
          },
          "execution_count": 33,
          "metadata": {},
          "output_type": "execute_result"
        },
        {
          "data": {
            "image/png": "[encoded data removed]",
            "text/plain": [
              "<Figure size 432x288 with 1 Axes>"
            ]
          },
          "metadata": {
            "needs_background": "light"
          },
          "output_type": "display_data"
        }
      ],
      "source": [
        "plt.plot(losses)"
      ]
    },
    {
      "cell_type": "code",
      "execution_count": 34,
      "metadata": {
        "colab": {
          "base_uri": "https://localhost:8080/"
        },
        "id": "XlXzJ-r9_Pfj",
        "outputId": "0c9567c2-5c8c-402e-87ed-9eabd66effdf"
      },
      "outputs": [
        {
          "name": "stdout",
          "output_type": "stream",
          "text": [
            "[[0.50385714]]\n"
          ]
        }
      ],
      "source": [
        "print(model.weight.data.numpy())"
      ]
    },
    {
      "cell_type": "code",
      "execution_count": 40,
      "metadata": {
        "colab": {
          "base_uri": "https://localhost:8080/"
        },
        "id": "Tx6U8aqdA7SG",
        "outputId": "620a759f-ca92-423d-fe20-0114e96b7ff3"
      },
      "outputs": [
        {
          "name": "stdout",
          "output_type": "stream",
          "text": [
            "tensor([-0.5039])\n"
          ]
        }
      ],
      "source": [
        "print(model.bias.data)\n"
      ]
    },
    {
      "cell_type": "code",
      "execution_count": 38,
      "metadata": {
        "colab": {
          "base_uri": "https://localhost:8080/",
          "height": 284
        },
        "id": "wW-jm1oEA-85",
        "outputId": "301b61f5-28f6-4335-b9eb-10cae1334b9a"
      },
      "outputs": [
        {
          "data": {
            "text/plain": [
              "[<matplotlib.lines.Line2D at 0x7fe91f1250d0>]"
            ]
          },
          "execution_count": 38,
          "metadata": {},
          "output_type": "execute_result"
        },
        {
          "data": {
            "image/png": "[encoded data removed]",
            "text/plain": [
              "<Figure size 432x288 with 1 Axes>"
            ]
          },
          "metadata": {
            "needs_background": "light"
          },
          "output_type": "display_data"
        }
      ],
      "source": [
        "predictions=model(inputs).detach().numpy()\n",
        "plt.scatter(X,Y)\n",
        "plt.plot(X,predictions)"
      ]
    },
    {
      "cell_type": "code",
      "execution_count": null,
      "metadata": {
        "id": "ja4yWHtpBSFi"
      },
      "outputs": [],
      "source": []
    }
  ],
  "metadata": {
    "colab": {
      "name": "Linear Regression.ipynb",
      "provenance": []
    },
    "kernelspec": {
      "display_name": "Python 3",
      "name": "python3"
    },
    "language_info": {
      "name": "python"
    }
  },
  "nbformat": 4,
  "nbformat_minor": 0
}
